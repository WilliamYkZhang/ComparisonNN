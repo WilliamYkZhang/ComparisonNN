{
 "cells": [
  {
   "cell_type": "code",
   "execution_count": 1,
   "metadata": {},
   "outputs": [
    {
     "name": "stderr",
     "output_type": "stream",
     "text": [
      "Using TensorFlow backend.\n"
     ]
    }
   ],
   "source": [
    "from data import process_data\n",
    "from keras.callbacks import ModelCheckpoint, EarlyStopping\n",
    "from keras.layers import LSTM, Dense, Dropout, TimeDistributed\n",
    "from keras.models import Sequential, load_model"
   ]
  },
  {
   "cell_type": "code",
   "execution_count": 2,
   "metadata": {},
   "outputs": [],
   "source": [
    "batch_size = 64\n",
    "shuffle = False"
   ]
  },
  {
   "cell_type": "code",
   "execution_count": 3,
   "metadata": {},
   "outputs": [
    {
     "data": {
      "application/vnd.jupyter.widget-view+json": {
       "model_id": "a853f8f8d9ff4b91a215aaba0c83257e",
       "version_major": 2,
       "version_minor": 0
      },
      "text/plain": [
       "HBox(children=(IntProgress(value=0, max=4940), HTML(value='')))"
      ]
     },
     "metadata": {},
     "output_type": "display_data"
    },
    {
     "name": "stdout",
     "output_type": "stream",
     "text": [
      "\n",
      "length of time-series i/o (4940, 50, 3)\n",
      "x_train: (3968, 50, 3), y_train: (3968, 3)\n",
      "x_test:(960, 50, 3), y_test:(960, 3)\n"
     ]
    }
   ],
   "source": [
    "x_train, y_train, x_test, y_test = process_data(time_series=True, debug=True, batch_size=batch_size, shuffle=shuffle)"
   ]
  },
  {
   "cell_type": "code",
   "execution_count": 6,
   "metadata": {},
   "outputs": [],
   "source": [
    "model_type = \"LSTM\"\n",
    "checkpoint_saver = ModelCheckpoint(filepath='/models/{}.hdf5'.format(model_type), \n",
    "                                   monitor='val_loss', save_best_only=True, save_weights_only=False,\n",
    "                                  mode = 'auto')\n",
    "stopper = EarlyStopping(monitor='val_loss', min_delta= 0.00001, patience = 3, verbose=0)"
   ]
  },
  {
   "cell_type": "code",
   "execution_count": 7,
   "metadata": {},
   "outputs": [],
   "source": [
    "regressor = Sequential()\n",
    "regressor.add(LSTM(units = 256, return_sequences = True, input_shape = (x_train.shape[1],x_train.shape[2])))\n",
    "regressor.add(Dropout(0.2))\n",
    "regressor.add(LSTM(units = 256,return_sequences = False))\n",
    "regressor.add(Dropout(0.2))\n",
    "regressor.add((Dense(units= 256)))\n",
    "regressor.add(Dropout(0.2))\n",
    "regressor.add(Dense(units = y_train.shape[1]))\n",
    "regressor.compile(optimizer = 'adam', loss = 'mean_squared_error', metrics=['acc'])"
   ]
  },
  {
   "cell_type": "code",
   "execution_count": 8,
   "metadata": {},
   "outputs": [
    {
     "name": "stdout",
     "output_type": "stream",
     "text": [
      "WARNING:tensorflow:From C:\\Users\\WYkZh\\Anaconda3\\lib\\site-packages\\tensorflow\\python\\ops\\math_grad.py:1250: add_dispatch_support.<locals>.wrapper (from tensorflow.python.ops.array_ops) is deprecated and will be removed in a future version.\n",
      "Instructions for updating:\n",
      "Use tf.where in 2.0, which has the same broadcast rule as np.where\n",
      "WARNING:tensorflow:From C:\\Users\\WYkZh\\Anaconda3\\lib\\site-packages\\keras\\backend\\tensorflow_backend.py:986: The name tf.assign_add is deprecated. Please use tf.compat.v1.assign_add instead.\n",
      "\n",
      "Train on 3571 samples, validate on 397 samples\n",
      "Epoch 1/100\n",
      "3571/3571 [==============================] - ETA: 3:04 - loss: 0.0012 - acc: 0.453 - ETA: 1:39 - loss: 0.0012 - acc: 0.414 - ETA: 1:09 - loss: 0.0016 - acc: 0.416 - ETA: 55s - loss: 0.0016 - acc: 0.398 - ETA: 47s - loss: 0.0016 - acc: 0.37 - ETA: 41s - loss: 0.0014 - acc: 0.35 - ETA: 36s - loss: 0.0013 - acc: 0.34 - ETA: 33s - loss: 0.0012 - acc: 0.36 - ETA: 30s - loss: 0.0011 - acc: 0.35 - ETA: 28s - loss: 0.0011 - acc: 0.34 - ETA: 26s - loss: 0.0011 - acc: 0.33 - ETA: 24s - loss: 9.9931e-04 - acc: 0.34 - ETA: 23s - loss: 9.5505e-04 - acc: 0.33 - ETA: 22s - loss: 9.0974e-04 - acc: 0.33 - ETA: 20s - loss: 8.7400e-04 - acc: 0.33 - ETA: 20s - loss: 8.3195e-04 - acc: 0.33 - ETA: 19s - loss: 7.9961e-04 - acc: 0.33 - ETA: 18s - loss: 7.7229e-04 - acc: 0.33 - ETA: 17s - loss: 7.6787e-04 - acc: 0.33 - ETA: 16s - loss: 7.5540e-04 - acc: 0.33 - ETA: 15s - loss: 7.4188e-04 - acc: 0.33 - ETA: 15s - loss: 7.2348e-04 - acc: 0.34 - ETA: 14s - loss: 7.0851e-04 - acc: 0.34 - ETA: 13s - loss: 7.0065e-04 - acc: 0.34 - ETA: 13s - loss: 6.9227e-04 - acc: 0.35 - ETA: 12s - loss: 6.8072e-04 - acc: 0.35 - ETA: 12s - loss: 6.6601e-04 - acc: 0.34 - ETA: 11s - loss: 6.5373e-04 - acc: 0.34 - ETA: 11s - loss: 6.3704e-04 - acc: 0.34 - ETA: 10s - loss: 6.2950e-04 - acc: 0.34 - ETA: 10s - loss: 6.2477e-04 - acc: 0.34 - ETA: 9s - loss: 6.2814e-04 - acc: 0.3457 - ETA: 9s - loss: 6.3062e-04 - acc: 0.348 - ETA: 8s - loss: 6.2790e-04 - acc: 0.348 - ETA: 8s - loss: 6.8727e-04 - acc: 0.346 - ETA: 7s - loss: 6.9560e-04 - acc: 0.347 - ETA: 7s - loss: 6.9118e-04 - acc: 0.346 - ETA: 6s - loss: 6.8012e-04 - acc: 0.344 - ETA: 6s - loss: 6.6807e-04 - acc: 0.344 - ETA: 6s - loss: 6.5889e-04 - acc: 0.341 - ETA: 5s - loss: 6.5377e-04 - acc: 0.338 - ETA: 5s - loss: 6.4467e-04 - acc: 0.338 - ETA: 4s - loss: 6.3499e-04 - acc: 0.337 - ETA: 4s - loss: 6.2469e-04 - acc: 0.339 - ETA: 4s - loss: 6.1584e-04 - acc: 0.338 - ETA: 3s - loss: 6.1386e-04 - acc: 0.338 - ETA: 3s - loss: 6.0714e-04 - acc: 0.337 - ETA: 2s - loss: 5.9896e-04 - acc: 0.337 - ETA: 2s - loss: 5.9349e-04 - acc: 0.338 - ETA: 2s - loss: 5.8519e-04 - acc: 0.337 - ETA: 1s - loss: 5.8079e-04 - acc: 0.336 - ETA: 1s - loss: 5.7498e-04 - acc: 0.338 - ETA: 1s - loss: 5.6810e-04 - acc: 0.337 - ETA: 0s - loss: 5.6334e-04 - acc: 0.334 - ETA: 0s - loss: 5.5845e-04 - acc: 0.334 - 21s 6ms/step - loss: 5.5350e-04 - acc: 0.3349 - val_loss: 2.5843e-04 - val_acc: 0.3149\n",
      "Epoch 2/100\n",
      "1920/3571 [===============>..............] - ETA: 15s - loss: 0.0012 - acc: 0.23 - ETA: 16s - loss: 0.0010 - acc: 0.28 - ETA: 16s - loss: 0.0015 - acc: 0.33 - ETA: 16s - loss: 0.0014 - acc: 0.34 - ETA: 19s - loss: 0.0014 - acc: 0.35 - ETA: 20s - loss: 0.0013 - acc: 0.35 - ETA: 19s - loss: 0.0012 - acc: 0.35 - ETA: 18s - loss: 0.0011 - acc: 0.34 - ETA: 17s - loss: 0.0010 - acc: 0.33 - ETA: 17s - loss: 0.0010 - acc: 0.33 - ETA: 16s - loss: 9.4996e-04 - acc: 0.33 - ETA: 15s - loss: 8.9563e-04 - acc: 0.34 - ETA: 15s - loss: 8.5507e-04 - acc: 0.35 - ETA: 14s - loss: 8.1251e-04 - acc: 0.35 - ETA: 14s - loss: 7.8011e-04 - acc: 0.35 - ETA: 14s - loss: 7.4313e-04 - acc: 0.35 - ETA: 13s - loss: 7.1577e-04 - acc: 0.36 - ETA: 13s - loss: 6.9292e-04 - acc: 0.36 - ETA: 13s - loss: 6.9144e-04 - acc: 0.36 - ETA: 12s - loss: 6.8313e-04 - acc: 0.36 - ETA: 12s - loss: 6.7032e-04 - acc: 0.36 - ETA: 11s - loss: 6.5401e-04 - acc: 0.36 - ETA: 11s - loss: 6.4208e-04 - acc: 0.36 - ETA: 10s - loss: 6.3794e-04 - acc: 0.36 - ETA: 10s - loss: 6.3228e-04 - acc: 0.36 - ETA: 10s - loss: 6.2206e-04 - acc: 0.36 - ETA: 9s - loss: 6.0882e-04 - acc: 0.3600 - ETA: 9s - loss: 5.9796e-04 - acc: 0.358 - ETA: 9s - loss: 5.8344e-04 - acc: 0.356 - ETA: 8s - loss: 5.7698e-04 - acc: 0.3578"
     ]
    },
    {
     "ename": "KeyboardInterrupt",
     "evalue": "",
     "output_type": "error",
     "traceback": [
      "\u001b[1;31m---------------------------------------------------------------------------\u001b[0m",
      "\u001b[1;31mKeyboardInterrupt\u001b[0m                         Traceback (most recent call last)",
      "\u001b[1;32m<ipython-input-8-92f126a376fc>\u001b[0m in \u001b[0;36m<module>\u001b[1;34m\u001b[0m\n\u001b[0;32m      2\u001b[0m               \u001b[0mvalidation_split\u001b[0m\u001b[1;33m=\u001b[0m\u001b[1;36m0.1\u001b[0m \u001b[1;33m,\u001b[0m\u001b[0mshuffle\u001b[0m\u001b[1;33m=\u001b[0m\u001b[0mshuffle\u001b[0m\u001b[1;33m,\u001b[0m\u001b[1;33m\u001b[0m\u001b[1;33m\u001b[0m\u001b[0m\n\u001b[0;32m      3\u001b[0m \u001b[1;31m#               callbacks=[checkpoint_saver, stopper],\u001b[0m\u001b[1;33m\u001b[0m\u001b[1;33m\u001b[0m\u001b[1;33m\u001b[0m\u001b[0m\n\u001b[1;32m----> 4\u001b[1;33m              \u001b[0mverbose\u001b[0m\u001b[1;33m=\u001b[0m\u001b[1;36m1\u001b[0m\u001b[1;33m\u001b[0m\u001b[1;33m\u001b[0m\u001b[0m\n\u001b[0m\u001b[0;32m      5\u001b[0m              )\n",
      "\u001b[1;32m~\\Anaconda3\\lib\\site-packages\\keras\\engine\\training.py\u001b[0m in \u001b[0;36mfit\u001b[1;34m(self, x, y, batch_size, epochs, verbose, callbacks, validation_split, validation_data, shuffle, class_weight, sample_weight, initial_epoch, steps_per_epoch, validation_steps, **kwargs)\u001b[0m\n\u001b[0;32m   1037\u001b[0m                                         \u001b[0minitial_epoch\u001b[0m\u001b[1;33m=\u001b[0m\u001b[0minitial_epoch\u001b[0m\u001b[1;33m,\u001b[0m\u001b[1;33m\u001b[0m\u001b[1;33m\u001b[0m\u001b[0m\n\u001b[0;32m   1038\u001b[0m                                         \u001b[0msteps_per_epoch\u001b[0m\u001b[1;33m=\u001b[0m\u001b[0msteps_per_epoch\u001b[0m\u001b[1;33m,\u001b[0m\u001b[1;33m\u001b[0m\u001b[1;33m\u001b[0m\u001b[0m\n\u001b[1;32m-> 1039\u001b[1;33m                                         validation_steps=validation_steps)\n\u001b[0m\u001b[0;32m   1040\u001b[0m \u001b[1;33m\u001b[0m\u001b[0m\n\u001b[0;32m   1041\u001b[0m     def evaluate(self, x=None, y=None,\n",
      "\u001b[1;32m~\\Anaconda3\\lib\\site-packages\\keras\\engine\\training_arrays.py\u001b[0m in \u001b[0;36mfit_loop\u001b[1;34m(model, f, ins, out_labels, batch_size, epochs, verbose, callbacks, val_f, val_ins, shuffle, callback_metrics, initial_epoch, steps_per_epoch, validation_steps)\u001b[0m\n\u001b[0;32m    197\u001b[0m                     \u001b[0mins_batch\u001b[0m\u001b[1;33m[\u001b[0m\u001b[0mi\u001b[0m\u001b[1;33m]\u001b[0m \u001b[1;33m=\u001b[0m \u001b[0mins_batch\u001b[0m\u001b[1;33m[\u001b[0m\u001b[0mi\u001b[0m\u001b[1;33m]\u001b[0m\u001b[1;33m.\u001b[0m\u001b[0mtoarray\u001b[0m\u001b[1;33m(\u001b[0m\u001b[1;33m)\u001b[0m\u001b[1;33m\u001b[0m\u001b[1;33m\u001b[0m\u001b[0m\n\u001b[0;32m    198\u001b[0m \u001b[1;33m\u001b[0m\u001b[0m\n\u001b[1;32m--> 199\u001b[1;33m                 \u001b[0mouts\u001b[0m \u001b[1;33m=\u001b[0m \u001b[0mf\u001b[0m\u001b[1;33m(\u001b[0m\u001b[0mins_batch\u001b[0m\u001b[1;33m)\u001b[0m\u001b[1;33m\u001b[0m\u001b[1;33m\u001b[0m\u001b[0m\n\u001b[0m\u001b[0;32m    200\u001b[0m                 \u001b[0mouts\u001b[0m \u001b[1;33m=\u001b[0m \u001b[0mto_list\u001b[0m\u001b[1;33m(\u001b[0m\u001b[0mouts\u001b[0m\u001b[1;33m)\u001b[0m\u001b[1;33m\u001b[0m\u001b[1;33m\u001b[0m\u001b[0m\n\u001b[0;32m    201\u001b[0m                 \u001b[1;32mfor\u001b[0m \u001b[0ml\u001b[0m\u001b[1;33m,\u001b[0m \u001b[0mo\u001b[0m \u001b[1;32min\u001b[0m \u001b[0mzip\u001b[0m\u001b[1;33m(\u001b[0m\u001b[0mout_labels\u001b[0m\u001b[1;33m,\u001b[0m \u001b[0mouts\u001b[0m\u001b[1;33m)\u001b[0m\u001b[1;33m:\u001b[0m\u001b[1;33m\u001b[0m\u001b[1;33m\u001b[0m\u001b[0m\n",
      "\u001b[1;32m~\\Anaconda3\\lib\\site-packages\\keras\\backend\\tensorflow_backend.py\u001b[0m in \u001b[0;36m__call__\u001b[1;34m(self, inputs)\u001b[0m\n\u001b[0;32m   2713\u001b[0m                 \u001b[1;32mreturn\u001b[0m \u001b[0mself\u001b[0m\u001b[1;33m.\u001b[0m\u001b[0m_legacy_call\u001b[0m\u001b[1;33m(\u001b[0m\u001b[0minputs\u001b[0m\u001b[1;33m)\u001b[0m\u001b[1;33m\u001b[0m\u001b[1;33m\u001b[0m\u001b[0m\n\u001b[0;32m   2714\u001b[0m \u001b[1;33m\u001b[0m\u001b[0m\n\u001b[1;32m-> 2715\u001b[1;33m             \u001b[1;32mreturn\u001b[0m \u001b[0mself\u001b[0m\u001b[1;33m.\u001b[0m\u001b[0m_call\u001b[0m\u001b[1;33m(\u001b[0m\u001b[0minputs\u001b[0m\u001b[1;33m)\u001b[0m\u001b[1;33m\u001b[0m\u001b[1;33m\u001b[0m\u001b[0m\n\u001b[0m\u001b[0;32m   2716\u001b[0m         \u001b[1;32melse\u001b[0m\u001b[1;33m:\u001b[0m\u001b[1;33m\u001b[0m\u001b[1;33m\u001b[0m\u001b[0m\n\u001b[0;32m   2717\u001b[0m             \u001b[1;32mif\u001b[0m \u001b[0mpy_any\u001b[0m\u001b[1;33m(\u001b[0m\u001b[0mis_tensor\u001b[0m\u001b[1;33m(\u001b[0m\u001b[0mx\u001b[0m\u001b[1;33m)\u001b[0m \u001b[1;32mfor\u001b[0m \u001b[0mx\u001b[0m \u001b[1;32min\u001b[0m \u001b[0minputs\u001b[0m\u001b[1;33m)\u001b[0m\u001b[1;33m:\u001b[0m\u001b[1;33m\u001b[0m\u001b[1;33m\u001b[0m\u001b[0m\n",
      "\u001b[1;32m~\\Anaconda3\\lib\\site-packages\\keras\\backend\\tensorflow_backend.py\u001b[0m in \u001b[0;36m_call\u001b[1;34m(self, inputs)\u001b[0m\n\u001b[0;32m   2673\u001b[0m             \u001b[0mfetched\u001b[0m \u001b[1;33m=\u001b[0m \u001b[0mself\u001b[0m\u001b[1;33m.\u001b[0m\u001b[0m_callable_fn\u001b[0m\u001b[1;33m(\u001b[0m\u001b[1;33m*\u001b[0m\u001b[0marray_vals\u001b[0m\u001b[1;33m,\u001b[0m \u001b[0mrun_metadata\u001b[0m\u001b[1;33m=\u001b[0m\u001b[0mself\u001b[0m\u001b[1;33m.\u001b[0m\u001b[0mrun_metadata\u001b[0m\u001b[1;33m)\u001b[0m\u001b[1;33m\u001b[0m\u001b[1;33m\u001b[0m\u001b[0m\n\u001b[0;32m   2674\u001b[0m         \u001b[1;32melse\u001b[0m\u001b[1;33m:\u001b[0m\u001b[1;33m\u001b[0m\u001b[1;33m\u001b[0m\u001b[0m\n\u001b[1;32m-> 2675\u001b[1;33m             \u001b[0mfetched\u001b[0m \u001b[1;33m=\u001b[0m \u001b[0mself\u001b[0m\u001b[1;33m.\u001b[0m\u001b[0m_callable_fn\u001b[0m\u001b[1;33m(\u001b[0m\u001b[1;33m*\u001b[0m\u001b[0marray_vals\u001b[0m\u001b[1;33m)\u001b[0m\u001b[1;33m\u001b[0m\u001b[1;33m\u001b[0m\u001b[0m\n\u001b[0m\u001b[0;32m   2676\u001b[0m         \u001b[1;32mreturn\u001b[0m \u001b[0mfetched\u001b[0m\u001b[1;33m[\u001b[0m\u001b[1;33m:\u001b[0m\u001b[0mlen\u001b[0m\u001b[1;33m(\u001b[0m\u001b[0mself\u001b[0m\u001b[1;33m.\u001b[0m\u001b[0moutputs\u001b[0m\u001b[1;33m)\u001b[0m\u001b[1;33m]\u001b[0m\u001b[1;33m\u001b[0m\u001b[1;33m\u001b[0m\u001b[0m\n\u001b[0;32m   2677\u001b[0m \u001b[1;33m\u001b[0m\u001b[0m\n",
      "\u001b[1;32m~\\Anaconda3\\lib\\site-packages\\tensorflow\\python\\client\\session.py\u001b[0m in \u001b[0;36m__call__\u001b[1;34m(self, *args, **kwargs)\u001b[0m\n\u001b[0;32m   1456\u001b[0m         ret = tf_session.TF_SessionRunCallable(self._session._session,\n\u001b[0;32m   1457\u001b[0m                                                \u001b[0mself\u001b[0m\u001b[1;33m.\u001b[0m\u001b[0m_handle\u001b[0m\u001b[1;33m,\u001b[0m \u001b[0margs\u001b[0m\u001b[1;33m,\u001b[0m\u001b[1;33m\u001b[0m\u001b[1;33m\u001b[0m\u001b[0m\n\u001b[1;32m-> 1458\u001b[1;33m                                                run_metadata_ptr)\n\u001b[0m\u001b[0;32m   1459\u001b[0m         \u001b[1;32mif\u001b[0m \u001b[0mrun_metadata\u001b[0m\u001b[1;33m:\u001b[0m\u001b[1;33m\u001b[0m\u001b[1;33m\u001b[0m\u001b[0m\n\u001b[0;32m   1460\u001b[0m           \u001b[0mproto_data\u001b[0m \u001b[1;33m=\u001b[0m \u001b[0mtf_session\u001b[0m\u001b[1;33m.\u001b[0m\u001b[0mTF_GetBuffer\u001b[0m\u001b[1;33m(\u001b[0m\u001b[0mrun_metadata_ptr\u001b[0m\u001b[1;33m)\u001b[0m\u001b[1;33m\u001b[0m\u001b[1;33m\u001b[0m\u001b[0m\n",
      "\u001b[1;31mKeyboardInterrupt\u001b[0m: "
     ]
    }
   ],
   "source": [
    "regressor.fit(x=x_train, y=y_train, epochs=100, batch_size=batch_size,\n",
    "              validation_split=0.1 ,shuffle=shuffle, \n",
    "#               callbacks=[checkpoint_saver, stopper],\n",
    "             verbose=1\n",
    "             )"
   ]
  },
  {
   "cell_type": "code",
   "execution_count": null,
   "metadata": {},
   "outputs": [],
   "source": []
  }
 ],
 "metadata": {
  "kernelspec": {
   "display_name": "Python 3",
   "language": "python",
   "name": "python3"
  },
  "language_info": {
   "codemirror_mode": {
    "name": "ipython",
    "version": 3
   },
   "file_extension": ".py",
   "mimetype": "text/x-python",
   "name": "python",
   "nbconvert_exporter": "python",
   "pygments_lexer": "ipython3",
   "version": "3.7.3"
  }
 },
 "nbformat": 4,
 "nbformat_minor": 1
}
